{
  "nbformat": 4,
  "nbformat_minor": 0,
  "metadata": {
    "colab": {
      "provenance": [],
      "authorship_tag": "ABX9TyPOTUztfhgLh89HVUBVEsIm"
    },
    "kernelspec": {
      "name": "python3",
      "display_name": "Python 3"
    },
    "language_info": {
      "name": "python"
    }
  },
  "cells": [
    {
      "cell_type": "code",
      "execution_count": null,
      "metadata": {
        "id": "NVLLX_X3sQgJ"
      },
      "outputs": [],
      "source": [
        "import numpy as np\n",
        "import pandas as pd"
      ]
    },
    {
      "cell_type": "code",
      "source": [
        "df = pd.read_csv('./song.csv')"
      ],
      "metadata": {
        "id": "ql--KdnJsSKy"
      },
      "execution_count": null,
      "outputs": []
    },
    {
      "cell_type": "code",
      "source": [
        "print(df['genre'].unique())"
      ],
      "metadata": {
        "colab": {
          "base_uri": "https://localhost:8080/"
        },
        "id": "rp_UQ84osbRQ",
        "outputId": "1c0ecf75-e68a-4558-d407-0faa523dc964"
      },
      "execution_count": null,
      "outputs": [
        {
          "output_type": "stream",
          "name": "stdout",
          "text": [
            "['Pop' 'K-Pop' 'Afrobeats' 'Country' 'R&B' 'Dance' 'Hip-Hop' 'Electronic'\n",
            " 'Reggaeton']\n"
          ]
        }
      ]
    }
  ]
}